{
 "cells": [
  {
   "cell_type": "markdown",
   "metadata": {},
   "source": [
    "# Gravitational orbit using Lagrange's equation\n",
    "\n",
    "Adapt Orbit class that is used to generate orbit plots from solving Lagrange's equations."
   ]
  },
  {
   "cell_type": "markdown",
   "metadata": {},
   "source": [
    "## Euler-Lagrange equation\n",
    "\n",
    "For a two-body system, the Lagrangian with Cartesian coordinates is\n",
    "\n",
    "$\\begin{align}\n",
    "  \\mathcal{L} = \\frac12 m_1 (\\dot x_1 ^2 + \\dot y_1 ^2) + \\frac12 m_1 (\\dot x_2 ^2 + \\dot y_2 ^2)\\\n",
    "  + \\frac{G m_1 m_2} {\\sqrt{(x_1 - x_2)^2 + (y_1 - y_2)^2}}\n",
    "\\end{align}$\n",
    "\n",
    "The Euler-Lagrange equations are\n",
    "\n",
    "$\\begin{align}\n",
    " \\frac{d}{dt}\\frac{\\partial\\mathcal{L}}{\\partial \\dot{x_1}} = \\frac{\\partial\\mathcal L}{\\partial x_1}\n",
    " \\quad\\Longrightarrow\\quad\n",
    " m_1  \\ddot x_1 = \\frac {G m_1 m_2} {\\sqrt{(x_1 - x_2)^2 + (y_1 - y_2)^2}^3} (x_2 - x_1)\n",
    "  \\ \\mbox{or}\\ \\ddot x_1 = \\frac {G m_2} {\\sqrt{(x_1 - x_2)^2 + (y_1 - y_2)^2}^3} (x_2 - x_1)\n",
    "  \\;.\n",
    "\\end{align}$\n",
    "$\\begin{align}\n",
    " \\frac{d}{dt}\\frac{\\partial\\mathcal{L}}{\\partial \\dot{y_1}} = \\frac{\\partial\\mathcal L}{\\partial y_1}\n",
    " \\quad\\Longrightarrow\\quad\n",
    " m_1  \\ddot y_1 = \\frac {G m_1 m_2} {\\sqrt{(x_1 - x_2)^2 + (y_1 - y_2)^2}^3} (y_2 - y_1)\n",
    "  \\ \\mbox{or}\\ \\ddot y_1 = \\frac {G m_2} {\\sqrt{(x_1 - x_2)^2 + (y_1 - y_2)^2}^3} (y_2 - y_1)\n",
    "  \\;.\n",
    "\\end{align}$\n",
    "$\\begin{align}\n",
    " \\frac{d}{dt}\\frac{\\partial\\mathcal{L}}{\\partial \\dot{x_2}} = \\frac{\\partial\\mathcal L}{\\partial x_2}\n",
    " \\quad\\Longrightarrow\\quad\n",
    " m_2  \\ddot x_2 = -\\frac {G m_1 m_2} {\\sqrt{(x_1 - x_2)^2 + (y_1 - y_2)^2}^3} (x_2 - x_1)\n",
    "  \\ \\mbox{or}\\ \\ddot x_2 = -\\frac {G m_1} {\\sqrt{(x_1 - x_2)^2 + (y_1 - y_2)^2}^3} (x_2 - x_1)\n",
    "  \\;.\n",
    "\\end{align}$\n",
    "$\\begin{align}\n",
    " \\frac{d}{dt}\\frac{\\partial\\mathcal{L}}{\\partial \\dot{y_2}} = \\frac{\\partial\\mathcal L}{\\partial y_2}\n",
    " \\quad\\Longrightarrow\\quad\n",
    " m_2  \\ddot y_2 = -\\frac {G m_1 m_2} {\\sqrt{(x_1 - x_2)^2 + (y_1 - y_2)^2}^3} (y_2 - y_1)\n",
    "  \\ \\mbox{or}\\ \\ddot y_2 = -\\frac {G m_1} {\\sqrt{(x_1 - x_2)^2 + (y_1 - y_2)^2}^3} (y_2 - y_1)\n",
    "  \\;.\n",
    "\\end{align}$"
   ]
  },
  {
   "cell_type": "code",
   "execution_count": 1,
   "metadata": {},
   "outputs": [],
   "source": [
    "%matplotlib inline"
   ]
  },
  {
   "cell_type": "code",
   "execution_count": 2,
   "metadata": {},
   "outputs": [],
   "source": [
    "import numpy as np\n",
    "from scipy.integrate import odeint, solve_ivp\n",
    "\n",
    "import matplotlib.pyplot as plt"
   ]
  },
  {
   "cell_type": "code",
   "execution_count": 3,
   "metadata": {},
   "outputs": [],
   "source": [
    "# The dpi (dots-per-inch) setting will affect the resolution and how large\n",
    "#  the plots appear on screen and printed.  So you may want/need to adjust \n",
    "#  the figsize when creating the figure.\n",
    "plt.rcParams['figure.dpi'] = 100.    # this is the default for notebook\n",
    "\n",
    "# Change the common font size (smaller when higher dpi)\n",
    "font_size = 10\n",
    "plt.rcParams.update({'font.size': font_size})"
   ]
  },
  {
   "cell_type": "markdown",
   "metadata": {},
   "source": [
    "## Pendulum class and utility functions"
   ]
  },
  {
   "cell_type": "code",
   "execution_count": 4,
   "metadata": {},
   "outputs": [],
   "source": [
    "class Orbit():\n",
    "    \"\"\"\n",
    "    Orbit class implements the parameters and Lagrange's equations for \n",
    "     a simple pendulum (no driving or damping).\n",
    "     \n",
    "    Parameters\n",
    "    ----------\n",
    "    m1 : float\n",
    "        mass of first body\n",
    "    m2 : float\n",
    "        mass of second body\n",
    "    G : float\n",
    "        gravitational constant\n",
    "\n",
    "    Methods\n",
    "    -------\n",
    "    dy_dt(t, y)\n",
    "        Returns the right side of the differential equation in vector y, \n",
    "        given time t and the corresponding value of y.\n",
    "    \"\"\"\n",
    "    def __init__(self, m1=1., m2=1., G=1.\n",
    "                ):\n",
    "        self.m1 = m1\n",
    "        self.m2 = m2\n",
    "        self.G = G\n",
    "    \n",
    "    def dy_dt(self, t, y):\n",
    "        \"\"\"\n",
    "        This function returns the right-hand side of the diffeq: \n",
    "        \n",
    "        Parameters\n",
    "        ----------\n",
    "        t : float\n",
    "            time \n",
    "        y : float\n",
    "            A 8-component vector with \n",
    "                                    y[0] = x_1(t) and y[1] = x_dot_1(t)\n",
    "                                    y[2] = y_1(t) and y[3] = y_dot_1(t)\n",
    "                                    y[4] = x_2(t) and y[5] = x_dot_2(t)\n",
    "                                    y[6] = y_2(t) and y[7] = y_dot_2(t)\n",
    "            \n",
    "            \n",
    "        Returns\n",
    "        -------\n",
    "        \n",
    "        \"\"\"\n",
    "        dom = np.sqrt((y[0]-y[4])**2+(y[2]-y[6])**2)\n",
    "        return [\\\n",
    "                y[1], self.G *self.m2 * (y[4]-y[0])/dom**3, \\\n",
    "                y[3], self.G *self.m2 * (y[6]-y[2])/dom**3,\\\n",
    "                y[5], -self.G *self.m1 * (y[4]-y[0])/dom**3,\\\n",
    "                y[7], -self.G *self.m1 * (y[6]-y[2])/dom**3,\\\n",
    "               ]\n",
    "    def solve_ode(self, t_pts, x_1_0, x_1_dot_0, \n",
    "                  y_1_0,y_1_dot_0, x_2_0,x_2_dot_0,\n",
    "                  y_2_0,y_2_dot_0, abserr=1.0e-9, relerr=1.0e-9):\n",
    "        \"\"\"\n",
    "        Solve the ODE given initial conditions.\n",
    "        Specify smaller abserr and relerr to get more precision.\n",
    "        \"\"\"\n",
    "        y = [x_1_0, x_1_dot_0,y_1_0, y_1_dot_0, x_2_0,x_2_dot_0,y_2_0,y_2_dot_0] \n",
    "        solution = solve_ivp(self.dy_dt, (t_pts[0], t_pts[-1]), \n",
    "                             y, t_eval=t_pts, \n",
    "                             atol=abserr, rtol=relerr)\n",
    "        x_1, x_dot_1, y_1, y_dot_1, x_2, x_dot_2, y_2, y_dot_2 = solution.y\n",
    "\n",
    "        return x_1, x_dot_1, y_1, y_dot_1, x_2, x_dot_2, y_2, y_dot_2\n",
    "    \n",
    "    def solve_ode_Leapfrog(self, t_pts, x_1_0, x_1_dot_0, \n",
    "                           y_1_0,y_1_dot_0, x_2_0,x_2_dot_0,\n",
    "                           y_2_0,y_2_dot_0):\n",
    "        \"\"\"\n",
    "        Solve the ODE given initial conditions with the Leapfrog method.\n",
    "        \"\"\"\n",
    "        delta_t = t_pts[1] - t_pts[0]\n",
    "        \n",
    "        # initialize the arrays with zeros\n",
    "        num_t_pts = len(t_pts)\n",
    "        \n",
    "        x_1 = np.zeros(num_t_pts)\n",
    "        x_dot_1 = np.zeros(num_t_pts)\n",
    "        x_dot_1_half = np.zeros(num_t_pts)\n",
    "        \n",
    "        y_1 = np.zeros(num_t_pts)\n",
    "        y_dot_1 = np.zeros(num_t_pts)\n",
    "        y_dot_1_half = np.zeros(num_t_pts)\n",
    "        \n",
    "        x_2 = np.zeros(num_t_pts)\n",
    "        x_dot_2 = np.zeros(num_t_pts)\n",
    "        x_dot_2_half = np.zeros(num_t_pts)\n",
    "        \n",
    "        y_2 = np.zeros(num_t_pts)\n",
    "        y_dot_2 = np.zeros(num_t_pts)\n",
    "        y_dot_2_half = np.zeros(num_t_pts)\n",
    "        \n",
    "        \n",
    "        # initial conditions\n",
    "        x_1[0] = x_1_0\n",
    "        x_dot_1[0] = x_1_dot_0\n",
    "        \n",
    "        y_1[0] = y_1_0\n",
    "        y_dot_1[0] = y_1_dot_0\n",
    "        \n",
    "        x_2[0] = x_2_0\n",
    "        x_dot_2[0] = x_2_dot_0\n",
    "        \n",
    "        y_2[0] = y_2_0\n",
    "        y_dot_2[0] = y_2_dot_0\n",
    "        \n",
    "        # step through the differential equation\n",
    "        for i in np.arange(num_t_pts - 1):\n",
    "            t = t_pts[i]\n",
    "            \n",
    "            y = [x_1[i], x_dot_1[i], y_1[i], y_dot_1[i],\\\n",
    "                 x_2[i], x_dot_2[i], y_2[i], y_dot_2[i]]\n",
    "            \n",
    "            x_dot_1_half[i] = x_dot_1[i] + self.dy_dt(t, y)[1] * delta_t/2.\n",
    "            x_1[i+1] = x_1[i] + x_dot_1_half[i] * delta_t\n",
    "            \n",
    "            y_dot_1_half[i] = y_dot_1[i] + self.dy_dt(t, y)[3] * delta_t/2.\n",
    "            y_1[i+1] = y_1[i] + y_dot_1_half[i] * delta_t\n",
    "            \n",
    "            x_dot_2_half[i] = x_dot_2[i] + self.dy_dt(t, y)[5] * delta_t/2.\n",
    "            x_2[i+1] = x_2[i] + x_dot_2_half[i] * delta_t\n",
    "            \n",
    "            y_dot_2_half[i] = y_dot_2[i] + self.dy_dt(t, y)[7] * delta_t/2.\n",
    "            y_2[i+1] = y_2[i] + y_dot_2_half[i] * delta_t\n",
    "            \n",
    "            y = [x_1[i+1], x_dot_1[i], y_1[i+1], y_dot_1[i],\\\n",
    "                 x_2[i+1], x_dot_2[i], y_2[i+1], y_dot_2[i]]\n",
    "            \n",
    "            x_dot_1[i+1] = x_dot_1_half[i] + self.dy_dt(t, y)[1] * delta_t/2.\n",
    "            y_dot_1[i+1] = y_dot_1_half[i] + self.dy_dt(t, y)[3] * delta_t/2.\n",
    "            x_dot_2[i+1] = x_dot_2_half[i] + self.dy_dt(t, y)[5] * delta_t/2.\n",
    "            y_dot_2[i+1] = y_dot_2_half[i] + self.dy_dt(t, y)[7] * delta_t/2.\n",
    "            \n",
    "        return x_1, x_dot_1, y_1, y_dot_1, x_2, x_dot_2, y_2, y_dot_2   \n",
    "        \n",
    "    \n",
    "    def energy(self, t_pts, x_1, x_dot_1, y_1, y_dot_1, x_2, x_dot_2, y_2, y_dot_2):\n",
    "        \"\"\"Evaluate the energy as a function of time\"\"\"\n",
    "        return 1/2.*self.m1*(x_dot_1**2 + y_dot_1**2)+1/2.*self.m2*(x_dot_2**2 + y_dot_2**2)\\\n",
    "               +self.G*self.m1*self.m2/np.sqrt((x_1-x_2)**2+(y_1-y_2)**2)"
   ]
  },
  {
   "cell_type": "code",
   "execution_count": 5,
   "metadata": {},
   "outputs": [],
   "source": [
    "def plot_y_vs_x(x, y, axis_labels=None, label=None, title=None, \n",
    "                color=None, linestyle=None, semilogy=False, loglog=False,\n",
    "                ax=None):\n",
    "    \"\"\"\n",
    "    Generic plotting function: return a figure axis with a plot of y vs. x,\n",
    "    with line color and style, title, axis labels, and line label\n",
    "    \"\"\"\n",
    "    if ax is None:        # if the axis object doesn't exist, make one\n",
    "        ax = plt.gca()\n",
    "\n",
    "    if (semilogy):\n",
    "        line, = ax.semilogy(x, y, label=label, \n",
    "                            color=color, linestyle=linestyle)\n",
    "    elif (loglog):\n",
    "        line, = ax.loglog(x, y, label=label, \n",
    "                          color=color, linestyle=linestyle)\n",
    "    else:\n",
    "        line, = ax.plot(x, y, label=label, \n",
    "                    color=color, linestyle=linestyle)\n",
    "\n",
    "    if label is not None:    # if a label if passed, show the legend\n",
    "        ax.legend()\n",
    "    if title is not None:    # set a title if one if passed\n",
    "        ax.set_title(title)\n",
    "    if axis_labels is not None:  # set x-axis and y-axis labels if passed  \n",
    "        ax.set_xlabel(axis_labels[0])\n",
    "        ax.set_ylabel(axis_labels[1])\n",
    "\n",
    "    return ax, line"
   ]
  },
  {
   "cell_type": "code",
   "execution_count": 6,
   "metadata": {},
   "outputs": [],
   "source": [
    "def start_stop_indices(t_pts, plot_start, plot_stop):\n",
    "    start_index = (np.fabs(t_pts-plot_start)).argmin()  # index in t_pts array \n",
    "    stop_index = (np.fabs(t_pts-plot_stop)).argmin()  # index in t_pts array \n",
    "    return start_index, stop_index"
   ]
  },
  {
   "cell_type": "code",
   "execution_count": 7,
   "metadata": {},
   "outputs": [],
   "source": [
    "def start_stop_indices(t_pts, plot_start, plot_stop):\n",
    "    start_index = (np.fabs(t_pts-plot_start)).argmin()  # index in t_pts array \n",
    "    stop_index = (np.fabs(t_pts-plot_stop)).argmin()  # index in t_pts array \n",
    "    return start_index, stop_index"
   ]
  },
  {
   "cell_type": "code",
   "execution_count": null,
   "metadata": {},
   "outputs": [],
   "source": []
  },
  {
   "cell_type": "markdown",
   "metadata": {},
   "source": [
    "## Make plots of orbit using solve_ivp"
   ]
  },
  {
   "cell_type": "code",
   "execution_count": 8,
   "metadata": {
    "scrolled": false
   },
   "outputs": [
    {
     "name": "stderr",
     "output_type": "stream",
     "text": [
      "C:\\Users\\jozy9\\anaconda3\\lib\\site-packages\\IPython\\core\\pylabtools.py:132: UserWarning: Creating legend with loc=\"best\" can be slow with large amounts of data.\n",
      "  fig.canvas.print_figure(bytes_io, **kw)\n"
     ]
    },
    {
     "data": {
      "image/png": "[encoded data removed]",
      "text/plain": [
       "<Figure size 500x500 with 1 Axes>"
      ]
     },
     "metadata": {
      "needs_background": "light"
     },
     "output_type": "display_data"
    }
   ],
   "source": [
    "\n",
    "# Common plotting time (generate the full time then use slices)\n",
    "t_start = 0.\n",
    "t_end = 20.\n",
    "delta_t = 0.0001\n",
    "\n",
    "t_pts = np.arange(t_start, t_end+delta_t, delta_t)  \n",
    "\n",
    "m1 = 20.\n",
    "m2 = 1.\n",
    "G = 20.\n",
    "\n",
    "# Instantiate a Two-body system\n",
    "p1 = Orbit(m1=m1, m2=m2, G=G)\n",
    "\n",
    "# Instantiate inital conditions\n",
    "\n",
    "x_1_0, x_1_dot_0 = 0.1, 0.\n",
    "y_1_0, y_1_dot_0 = 0., 0.75\n",
    "x_2_0,x_2_dot_0 = - (m1/m2) * x_1_0, - (m1/m2) * x_1_dot_0\n",
    "y_2_0,y_2_dot_0 = - (m1/m2) * y_1_0, - (m1/m2) * y_1_dot_0\n",
    "\n",
    "x_1_a, x_dot_1_a, y_1_a, y_dot_1_a, x_2_a, x_dot_2_a, y_2_a, y_dot_2_a = p1.solve_ode(t_pts,x_1_0, x_1_dot_0,y_1_0, y_1_dot_0,\\\n",
    "                                                            x_2_0,x_2_dot_0,y_2_0,y_2_dot_0)\n",
    "\n",
    "# Make figures of x_1 vs y_1 and x_2 vs y_2\n",
    "plt.figure(figsize=(5,5))\n",
    "plt.subplot(1,1,1)\n",
    "plt.plot(x_1_a,y_1_a,'b',label='$body_1$')\n",
    "plt.plot(x_2_a,y_2_a,'r',label='$body_2$')\n",
    "plt.xlabel('$x$')\n",
    "plt.ylabel('$y$')\n",
    "plt.legend()\n",
    "plt.show()\n",
    "\n"
   ]
  },
  {
   "cell_type": "markdown",
   "metadata": {},
   "source": [
    "Now we switch to Leapfrog method, repeat the previous steps"
   ]
  },
  {
   "cell_type": "code",
   "execution_count": 9,
   "metadata": {},
   "outputs": [
    {
     "name": "stderr",
     "output_type": "stream",
     "text": [
      "C:\\Users\\jozy9\\anaconda3\\lib\\site-packages\\IPython\\core\\pylabtools.py:132: UserWarning: Creating legend with loc=\"best\" can be slow with large amounts of data.\n",
      "  fig.canvas.print_figure(bytes_io, **kw)\n"
     ]
    },
    {
     "data": {
      "image/png": "[encoded data removed]",
      "text/plain": [
       "<Figure size 500x500 with 1 Axes>"
      ]
     },
     "metadata": {
      "needs_background": "light"
     },
     "output_type": "display_data"
    }
   ],
   "source": [
    "# Common plotting time (generate the full time then use slices)\n",
    "t_start = 0.\n",
    "t_end = 20.\n",
    "delta_t = 0.0001\n",
    "\n",
    "t_pts = np.arange(t_start, t_end+delta_t, delta_t)  \n",
    "\n",
    "m1 = 20.\n",
    "m2 = 1.\n",
    "G = 20.\n",
    "\n",
    "# Instantiate a Two-body system\n",
    "p1 = Orbit(m1=m1, m2=m2, G=G)\n",
    "\n",
    "# Instantiate inital conditions\n",
    "\n",
    "x_1_0, x_1_dot_0 = 0.1, 0.\n",
    "y_1_0, y_1_dot_0 = 0., 0.75\n",
    "x_2_0,x_2_dot_0 = - (m1/m2) * x_1_0, - (m1/m2) * x_1_dot_0\n",
    "y_2_0,y_2_dot_0 = - (m1/m2) * y_1_0, - (m1/m2) * y_1_dot_0\n",
    "\n",
    "x_1_b, x_dot_1_b, y_1_b, y_dot_1_b, x_2_b, x_dot_2_b, y_2_b, y_dot_2_b = p1.solve_ode_Leapfrog(t_pts,x_1_0, x_1_dot_0, y_1_0, y_1_dot_0,\\\n",
    "                                                                               x_2_0,x_2_dot_0,y_2_0,y_2_dot_0)\n",
    "\n",
    "# Make figures of x_1 vs y_1 and x_2 vs y_2\n",
    "plt.figure(figsize=(5,5))\n",
    "plt.subplot(1,1,1)\n",
    "plt.plot(x_1_b,y_1_b,'b',label='$body_1$')\n",
    "plt.plot(x_2_b,y_2_b,'r',label='$body_2$')\n",
    "plt.xlabel('$x$')\n",
    "plt.ylabel('$y$')\n",
    "plt.legend()\n",
    "plt.show()\n"
   ]
  },
  {
   "cell_type": "markdown",
   "metadata": {},
   "source": [
    "We now compare the stability of these two methods using energy graph."
   ]
  },
  {
   "cell_type": "code",
   "execution_count": 10,
   "metadata": {},
   "outputs": [],
   "source": [
    "E_tot_pts_Euler = p1.energy(t_pts, x_1_a, x_dot_1_a, y_1_a, y_dot_1_a, x_2_a, x_dot_2_a, y_2_a, y_dot_2_a)\n",
    "E_tot_0_Euler = E_tot_pts_Euler[0]\n",
    "E_tot_rel_pts_Euler = np.abs((E_tot_pts_Euler - E_tot_0_Euler)/E_tot_0_Euler)\n",
    "\n",
    "E_tot_pts_LF = p1.energy(t_pts, x_1_b, x_dot_1_b, y_1_b, y_dot_1_b, x_2_b, x_dot_2_b, y_2_b, y_dot_2_b)\n",
    "E_tot_0_LF = E_tot_pts_LF[0]\n",
    "E_tot_rel_pts_LF = np.abs((E_tot_pts_LF - E_tot_0_LF)/E_tot_0_LF)"
   ]
  },
  {
   "cell_type": "code",
   "execution_count": 11,
   "metadata": {},
   "outputs": [
    {
     "name": "stderr",
     "output_type": "stream",
     "text": [
      "C:\\Users\\jozy9\\anaconda3\\lib\\site-packages\\IPython\\core\\pylabtools.py:132: UserWarning: Creating legend with loc=\"best\" can be slow with large amounts of data.\n",
      "  fig.canvas.print_figure(bytes_io, **kw)\n"
     ]
    },
    {
     "data": {
      "image/png": "[encoded data removed]",
      "text/plain": [
       "<Figure size 600x600 with 1 Axes>"
      ]
     },
     "metadata": {
      "needs_background": "light"
     },
     "output_type": "display_data"
    }
   ],
   "source": [
    "plt.figure(figsize=(6,6))\n",
    "plt.subplot(1,1,1)\n",
    "plt.semilogy(t_pts,E_tot_rel_pts_LF,'b',label='$\\Delta E(t)$ Leapfrog')\n",
    "plt.semilogy(t_pts,np.abs(E_tot_pts_Euler),'r',label='Scipy method')\n",
    "plt.ylim(1.e-20, 1000000000000)\n",
    "plt.xlabel(r'$t$')\n",
    "plt.ylabel(r'Energy')\n",
    "plt.title('Change in energy with time')\n",
    "plt.legend()\n",
    "plt.show()"
   ]
  },
  {
   "cell_type": "code",
   "execution_count": null,
   "metadata": {},
   "outputs": [],
   "source": []
  }
 ],
 "metadata": {
  "kernelspec": {
   "display_name": "Python 3",
   "language": "python",
   "name": "python3"
  },
  "language_info": {
   "codemirror_mode": {
    "name": "ipython",
    "version": 3
   },
   "file_extension": ".py",
   "mimetype": "text/x-python",
   "name": "python",
   "nbconvert_exporter": "python",
   "pygments_lexer": "ipython3",
   "version": "3.7.6"
  }
 },
 "nbformat": 4,
 "nbformat_minor": 2
}
