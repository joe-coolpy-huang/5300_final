{
 "cells": [
  {
   "cell_type": "markdown",
   "metadata": {},
   "source": [
    "# Double pendulum using Lagrange's equation\n",
    "\n",
    "Defines a DoublePendulum class that is used to generate double pendulum plots from solving Lagrange's equations.\n",
    "\n",
    "Revised by Joe Huang"
   ]
  },
  {
   "cell_type": "code",
   "execution_count": 1,
   "metadata": {},
   "outputs": [],
   "source": [
    "%matplotlib inline\n",
    "import numpy as np\n",
    "from scipy.integrate import odeint, solve_ivp\n",
    "from IPython.display import Image\n",
    "import matplotlib.pyplot as plt"
   ]
  },
  {
   "cell_type": "code",
   "execution_count": 2,
   "metadata": {},
   "outputs": [
    {
     "data": {
      "text/html": [
       "<img src=\"https://upload.wikimedia.org/wikipedia/commons/7/78/Double-Pendulum.svg\"/>"
      ],
      "text/plain": [
       "<IPython.core.display.Image object>"
      ]
     },
     "execution_count": 2,
     "metadata": {},
     "output_type": "execute_result"
    }
   ],
   "source": [
    "Image(url='https://upload.wikimedia.org/wikipedia/commons/7/78/Double-Pendulum.svg')"
   ]
  },
  {
   "cell_type": "markdown",
   "metadata": {},
   "source": [
    "## Euler-Lagrange equation\n",
    "\n",
    "For a double pendulum, the Lagrangian with generalized coordinate $\\phi_1$ and $\\phi_2$ is\n",
    "\n",
    "$\\begin{align}\n",
    "  \\mathcal{L} = T - U = \\frac12 (m_1 + m_2 ) L_1^2 \\dot\\phi_1^2 + m_2 L_1 L_2 \\dot\\phi_1 \\dot\\phi_2 \\cos (\\phi_1 - \\phi_2)\n",
    "  + \\frac12 m_2 L_2^2 \\dot\\phi_2^2 + \\cos \\phi_1 L_1 (m_1 + m_2) g + \\cos \\phi_2 L_2 m_2 g\n",
    "\\end{align}$\n",
    "\n",
    "The Euler-Lagrange equations are\n",
    "\n",
    "$\\begin{align}\n",
    " \\frac{d}{dt}\\frac{\\partial\\mathcal{L}}{\\partial \\dot\\phi_1} = \\frac{\\partial\\mathcal L}{\\partial\\phi_1}\n",
    " \\quad\\Longrightarrow\\quad &\n",
    " (m_1 + m_2) L_1^2 \\ddot \\phi_1 + m_2 L_1 L_2 \\ddot \\phi_2 \\cos(\\phi_1 - \\phi_2) -m_2 L_1 L_2 \\dot\\phi_2 \\sin(\\phi_1-\\phi_2)(\\dot\\phi_1 - \\dot \\phi_2)\\\\\n",
    " &= -m_2 L_1 L_2 \\dot\\phi_1 \\phi_2 \\sin(\\phi_1 - \\phi_2) - (m_1 + m_2) L_1 g \\sin\\phi_1 \\\\\n",
    "   \\frac{d}{dt}\\frac{\\partial\\mathcal{L}}{\\partial \\dot\\phi_2} = \\frac{\\partial\\mathcal L}{\\partial\\phi_2}\n",
    " \\quad\\Longrightarrow\\quad &\n",
    " m_2 L_2^2 \\ddot \\phi_2 + m_2 L_1 L_2 \\ddot \\phi_1 \\cos(\\phi_1 - \\phi_2) -m_2 L_1 L_2 \\dot\\phi_1 \\sin(\\phi_1-\\phi_2)(\\dot\\phi_1 - \\dot \\phi_2)\\\\\n",
    " &= m_2 L_1 L_2 \\dot\\phi_1 \\phi_2 \\sin(\\phi_1 - \\phi_2) - m_2 L_2 g \\sin\\phi_2.\n",
    "\\end{align}$\n"
   ]
  },
  {
   "cell_type": "code",
   "execution_count": 3,
   "metadata": {},
   "outputs": [],
   "source": [
    "# The dpi (dots-per-inch) setting will affect the resolution and how large\n",
    "#  the plots appear on screen and printed.  So you may want/need to adjust \n",
    "#  the figsize when creating the figure.\n",
    "plt.rcParams['figure.dpi'] = 100.    # this is the default for notebook\n",
    "\n",
    "# Change the common font size (smaller when higher dpi)\n",
    "font_size = 10\n",
    "plt.rcParams.update({'font.size': font_size})"
   ]
  },
  {
   "cell_type": "markdown",
   "metadata": {},
   "source": [
    "## Pendulum class and utility functions"
   ]
  },
  {
   "cell_type": "code",
   "execution_count": 4,
   "metadata": {},
   "outputs": [],
   "source": [
    "class DoublePendulum():\n",
    "    \"\"\"\n",
    "    Pendulum class implements the parameters and Lagrange's equations for \n",
    "     a simple pendulum (no driving or damping).\n",
    "     \n",
    "    Parameters\n",
    "    ----------\n",
    "    \n",
    "    L1 : float\n",
    "        length of the Upper pendulum\n",
    "    L2 : float\n",
    "        length of the lower pendulum\n",
    "    g : float\n",
    "        gravitational acceleration at the earth's surface \n",
    "    m1 : float\n",
    "        mass of upper pendulum\n",
    "    m2 : float\n",
    "        mass of lower pendulum    \n",
    "\n",
    "    Methods\n",
    "    -------\n",
    "    dy_dt(t, y)\n",
    "        Returns the right side of the differential equation in vector y, \n",
    "        given time t and the corresponding value of y.\n",
    "    \"\"\"\n",
    "    def __init__(self, L1=1.,L2=1., m1=1., m2=1., g=1.\n",
    "                ):\n",
    "        self.L1 = L1\n",
    "        self.L2 = L2\n",
    "        self.m1 = m1\n",
    "        self.m2 = m2\n",
    "        self.g = g\n",
    "    \n",
    "    def dy_dt(self, t, y):\n",
    "        \"\"\"\n",
    "        This function returns the right-hand side of the diffeq: \n",
    "        [dphi_1/dt d^2phi_1/dt^2 dphi_2/dt d^2phi_2/dt^2]\n",
    "        \n",
    "        Parameters\n",
    "        ----------\n",
    "        t : float\n",
    "            time \n",
    "        y : float\n",
    "            A 4-component vector with y[0] = phi_1(t) y[1] = dphi_1/dt y[2]=phi_2(t) y[3] = dphi_2(t)\n",
    "            \n",
    "        Returns\n",
    "        -------\n",
    "        \n",
    "        \"\"\"\n",
    "        return [y[1], (-self.g * (2.*self.m1+ self.m2)*np.sin(y[0])-self.m2*self.g*np.sin(y[0]-2*y[2])\\\n",
    "                       -2.*np.sin(y[0]-y[2])*self.m2*(y[3]**2*self.L2+y[1]**2 * self.L1 * np.cos(y[0]-y[2])))\\\n",
    "                /(self.L1 * (2.*self.m1 + self.m2 - self.m2*np.cos(2*y[0]-2*y[2]))), y[3],\\\n",
    "                (2*np.sin(y[0]-y[2])*((y[1]**2)*self.L1* (self.m1+ self.m2)+(self.m1+ self.m2)*self.g *np.cos(y[0])\\\n",
    "                                       +y[3]**2*self.L2*self.m2*np.cos(y[0]-y[2]))) \\\n",
    "                / (self.L2 * (2.*self.m1 +self.m2 - self.m2*np.cos(2*y[0]-2*y[2])))]\n",
    "    \n",
    "    def solve_ode(self, t_pts, phi_1_0, phi_1_dot_0, phi_2_0,phi_2_dot_0,\n",
    "                  abserr=1.0e-9, relerr=1.0e-9):\n",
    "        \"\"\"\n",
    "        Solve the ODE given initial conditions.\n",
    "        Specify smaller abserr and relerr to get more precision.\n",
    "        \"\"\"\n",
    "        y = [phi_1_0, phi_1_dot_0, phi_2_0, phi_2_dot_0] \n",
    "        solution = solve_ivp(self.dy_dt, (t_pts[0], t_pts[-1]), \n",
    "                             y, t_eval=t_pts, \n",
    "                             atol=abserr, rtol=relerr)\n",
    "        phi_1, phi_1_dot,phi_2,phi_2_dot = solution.y\n",
    "\n",
    "        return phi_1, phi_1_dot, phi_2, phi_2_dot"
   ]
  },
  {
   "cell_type": "markdown",
   "metadata": {},
   "source": [
    "## Make simple pendulum plots "
   ]
  },
  {
   "cell_type": "code",
   "execution_count": 5,
   "metadata": {
    "scrolled": false
   },
   "outputs": [],
   "source": [
    "# Labels for individual plot axes\n",
    "phi_1_vs_time_labels = (r'$t$', r'$\\phi_1(t)$')\n",
    "phi_2_vs_time_labels = (r'$t$', r'$\\phi_2(t)$')\n",
    "phi_1_dot_vs_time_labels = (r'$t$', r'$d\\phi_1/dt(t)$')\n",
    "phi_2_dot_vs_time_labels = (r'$t$', r'$d\\phi_2/dt(t)$')\n",
    "state_space_labels = (r'$\\phi$', r'$d\\phi/dt$')\n",
    "\n",
    "# Common plotting time (generate the full time then use slices)\n",
    "t_start = 0.\n",
    "t_end = 50.\n",
    "delta_t = 0.001\n",
    "\n",
    "t_pts = np.arange(t_start, t_end+delta_t, delta_t)  \n",
    "\n",
    "L1 = 1.\n",
    "L2 = 1.\n",
    "m1 = 1.\n",
    "m2 = 1.\n",
    "g = 1.\n",
    "\n",
    "# Instantiate a pendulum \n",
    "p1 = DoublePendulum(L1=L1,L2=L2, m1=m1, m2=m2, g=g)\n"
   ]
  },
  {
   "cell_type": "code",
   "execution_count": 6,
   "metadata": {},
   "outputs": [
    {
     "data": {
      "image/png": "[encoded data removed]",
      "text/plain": [
       "<Figure size 600x400 with 1 Axes>"
      ]
     },
     "metadata": {
      "needs_background": "light"
     },
     "output_type": "display_data"
    }
   ],
   "source": [
    "phi_1_0 = np.pi/2\n",
    "phi_1_dot_0 = 0.\n",
    "phi_2_0 = np.pi\n",
    "phi_2_dot_0 = 0.\n",
    "phi_1, phi_1_dot, phi_2, phi_2_dot = p1.solve_ode(t_pts, phi_1_0, phi_1_dot_0,phi_2_0,phi_2_dot_0)\n",
    "\n",
    "plt.subplot(1,1,1)\n",
    "plt.plot(t_pts,phi_1,'b',label='$\\phi_1(t)$')\n",
    "plt.ylabel('$\\phi_1(t)$')\n",
    "plt.plot(t_pts,phi_2,'r',label='$\\phi_2(t)$')\n",
    "plt.xlabel('$t$')\n",
    "plt.ylabel('$\\phi(t)$')\n",
    "plt.legend()\n",
    "plt.show()"
   ]
  },
  {
   "cell_type": "code",
   "execution_count": null,
   "metadata": {},
   "outputs": [],
   "source": []
  }
 ],
 "metadata": {
  "kernelspec": {
   "display_name": "Python 3",
   "language": "python",
   "name": "python3"
  },
  "language_info": {
   "codemirror_mode": {
    "name": "ipython",
    "version": 3
   },
   "file_extension": ".py",
   "mimetype": "text/x-python",
   "name": "python",
   "nbconvert_exporter": "python",
   "pygments_lexer": "ipython3",
   "version": "3.7.6"
  }
 },
 "nbformat": 4,
 "nbformat_minor": 2
}
